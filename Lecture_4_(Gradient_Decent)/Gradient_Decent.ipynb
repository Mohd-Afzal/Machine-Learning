{
 "cells": [
  {
   "cell_type": "code",
   "execution_count": 3,
   "metadata": {
    "collapsed": true
   },
   "outputs": [],
   "source": [
    "import numpy as np\n",
    "import matplotlib.pyplot as plt\n",
    "def step_gradient(points, learning_rate, b_current, m_current):\n",
    "    m_slope = 0\n",
    "    b_slope = 0\n",
    "    N = len(points)\n",
    "    for i in range(N):\n",
    "        x = points[i, 0]\n",
    "        y = points[i, 1]\n",
    "        b_slope += -(2/N) * (y - m_current* x - b_current)\n",
    "        m_slope += -(2/N) * (y - m_current* x - b_current)*x\n",
    "    new_m = m_current - learning_rate * m_slope\n",
    "    new_b = b_current - learning_rate* b_slope\n",
    "    return (new_b, new_m)\n",
    "\n",
    "def cost_gd(b, m , points):\n",
    "    total_cost = 0\n",
    "    for i in range(len(points)):\n",
    "        x = points[i,0]\n",
    "        y = points[i, 1]\n",
    "        total_cost += (y - (m*x + b))**2\n",
    "    return total_cost/len(points)\n",
    "\n",
    "def gd_runner(points, learning_rate = 0.001, num_iterations = 1000):\n",
    "    b = 0\n",
    "    m = 0\n",
    "    print (\"Start: \", cost_gd(b, m , points))\n",
    "    \n",
    "    yCost = [cost_gd(b, m, points)]\n",
    "    \n",
    "    \n",
    "    \n",
    "    for i in range(num_iterations):\n",
    "        b, m = step_gradient(points, learning_rate, b, m)\n",
    "         \n",
    "        yCost.insert(len(yCost), cost_gd(b, m, points))\n",
    "        \n",
    "    print (\"FINAL: \", cost_gd(b, m , points))\n",
    "    \n",
    "    npCost = np.array(yCost)\n",
    "    iterations = [i+1 for i in range(num_iterations + 1)]\n",
    "    iterations = np.array(iterations)\n",
    "    plt.plot(npCost, iterations)\n",
    "    plt.show()\n",
    "    return (b, m)\n",
    "\n",
    "def run():\n",
    "    points = np.loadtxt(open(\"Attachment/data.csv\", \"rb\"), delimiter=\",\")\n",
    "    learning_rate = 0.0001\n",
    "    num_iterations = 15\n",
    "    final_b, final_m = gd_runner(points, learning_rate, num_iterations)\n",
    "    print(final_b, final_m)\n"
   ]
  },
  {
   "cell_type": "code",
   "execution_count": 4,
   "metadata": {},
   "outputs": [
    {
     "name": "stdout",
     "output_type": "stream",
     "text": [
      "Start:  5565.10783448\n",
      "FINAL:  112.650130445\n"
     ]
    },
    {
     "data": {
      "image/png": "[encoded data removed]",
      "text/plain": [
       "<matplotlib.figure.Figure at 0x113026550>"
      ]
     },
     "metadata": {},
     "output_type": "display_data"
    },
    {
     "name": "stdout",
     "output_type": "stream",
     "text": [
      "0.0299681804689 1.47885570128\n"
     ]
    }
   ],
   "source": [
    "run()"
   ]
  },
  {
   "cell_type": "code",
   "execution_count": null,
   "metadata": {
    "collapsed": true
   },
   "outputs": [],
   "source": [
    "def gd_runner(points, learning_rate = 0.001, num_iterations = 1000):\n",
    "    b = 0\n",
    "    m = 0\n",
    "    print (\"Start: \", cost_gd(b, m , points))\n",
    "    \n",
    "    yCost = [cost_gd(b, m, points)]\n",
    "    \n",
    "    \n",
    "    \n",
    "    for i in range(num_iterations):\n",
    "        b, m = step_gradient(points, learning_rate, b, m)\n",
    "         \n",
    "        yCost.insert(len(yCost), cost_gd(b, m, points))\n",
    "        \n",
    "    print (\"FINAL: \", cost_gd(b, m , points))\n",
    "    \n",
    "    npCost = np.array(yCost)\n",
    "    iterations = [i+1 for i in range(num_iterations + 1)]\n",
    "    iterations = np.array(iterations)\n",
    "    plt.plot(npCost, iterations)\n",
    "    plt.show()\n",
    "    return (b, m)"
   ]
  }
 ],
 "metadata": {
  "kernelspec": {
   "display_name": "Python 3",
   "language": "python",
   "name": "python3"
  },
  "language_info": {
   "codemirror_mode": {
    "name": "ipython",
    "version": 3
   },
   "file_extension": ".py",
   "mimetype": "text/x-python",
   "name": "python",
   "nbconvert_exporter": "python",
   "pygments_lexer": "ipython3",
   "version": "3.6.1"
  }
 },
 "nbformat": 4,
 "nbformat_minor": 2
}
